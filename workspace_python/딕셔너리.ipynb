{
 "cells": [
  {
   "cell_type": "code",
   "execution_count": 2,
   "metadata": {},
   "outputs": [
    {
     "name": "stdout",
     "output_type": "stream",
     "text": [
      "80\n"
     ]
    }
   ],
   "source": [
    "dic1 = {\n",
    "  '학번' : 3,\n",
    "  '이름' : '이',\n",
    "  '점수' : 80\n",
    "}\n",
    "\n",
    "print(dic1['점수'])"
   ]
  },
  {
   "cell_type": "code",
   "execution_count": 5,
   "metadata": {},
   "outputs": [
    {
     "name": "stdout",
     "output_type": "stream",
     "text": [
      "{'modelName': 's20', 'price': 10000, 'color': 'red'}\n",
      "{'modelName': 's25', 'price': 10000, 'color': 'red'}\n"
     ]
    }
   ],
   "source": [
    "phone = {\n",
    "  'modelName' : 's20',\n",
    "  'price' : 10000\n",
    "}\n",
    "\n",
    "phone['color'] = 'red'\n",
    "\n",
    "print(phone)\n",
    "\n",
    "phone['modelName'] = 's25'\n",
    "\n",
    "print(phone)"
   ]
  },
  {
   "cell_type": "code",
   "execution_count": 12,
   "metadata": {},
   "outputs": [
    {
     "name": "stdout",
     "output_type": "stream",
     "text": [
      "{'brand': 'samsung', 'price': 1000}\n",
      "brand samsung\n",
      "price 1000\n"
     ]
    }
   ],
   "source": [
    "monitor = {\n",
    "  'brand' : 'samsung',\n",
    "  'price' : 1000,\n",
    "  'color' : 'black'\n",
    "}\n",
    "\n",
    "# monitor 딕셔너리 데이터에서 color 값을 삭제\n",
    "\n",
    "del monitor['color']\n",
    "\n",
    "print(monitor)\n",
    "\n",
    "for i in monitor:\n",
    "  print(i, monitor[i])"
   ]
  },
  {
   "cell_type": "code",
   "execution_count": null,
   "metadata": {},
   "outputs": [
    {
     "name": "stdout",
     "output_type": "stream",
     "text": [
      "['운동', '독서', '등산']\n",
      "3\n",
      "3\n",
      "등산\n",
      "홍아빠\n",
      "홍아빠\n",
      "[{'관계': '아빠', '이름': '홍아빠'}, {'관계': '엄마', '이름': '홍엄마', '나이': 50}]\n"
     ]
    }
   ],
   "source": [
    "member = {\n",
    "  'name' : '홍길동',\n",
    "  'age' : 20,\n",
    "  '취미' : ['운동', '독서', '등산'],\n",
    "  '가족' : [{\n",
    "    '관계' : '아빠',\n",
    "    '이름' : '홍아빠',\n",
    "  }, {\n",
    "    '관계' : '엄마',\n",
    "    '이름' : '홍엄마',\n",
    "  }]\n",
    "}\n",
    "\n",
    "# member 딕셔너리에서 모든 취미를 출력\n",
    "print(member['취미'])\n",
    "\n",
    "# 취미의 갯수를 출력\n",
    "cnt = 0\n",
    "for i in member['취미']:\n",
    "  cnt += 1\n",
    "print(cnt)\n",
    "print(len(member['취미']))\n",
    "\n",
    "# 마지막 취미 출력\n",
    "print(member['취미'].pop())\n",
    "\n",
    "# 아빠의 이름을 출력\n",
    "for i in member['가족']:\n",
    "  if i['관계'] == '아빠':\n",
    "    print(i['이름'])\n",
    "\n",
    "# 엄마의 나이를 추가 (나이 : 50)\n",
    "for i in member['가족']:\n",
    "  if i['관계'] == '엄마':\n",
    "    i['나이'] = 50\n",
    "print(member['가족'])"
   ]
  }
 ],
 "metadata": {
  "kernelspec": {
   "display_name": "Python 3",
   "language": "python",
   "name": "python3"
  },
  "language_info": {
   "codemirror_mode": {
    "name": "ipython",
    "version": 3
   },
   "file_extension": ".py",
   "mimetype": "text/x-python",
   "name": "python",
   "nbconvert_exporter": "python",
   "pygments_lexer": "ipython3",
   "version": "3.13.2"
  }
 },
 "nbformat": 4,
 "nbformat_minor": 2
}
